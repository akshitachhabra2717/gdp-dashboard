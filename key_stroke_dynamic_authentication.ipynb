{
  "nbformat": 4,
  "nbformat_minor": 0,
  "metadata": {
    "colab": {
      "provenance": [],
      "authorship_tag": "ABX9TyMdUA6sfylaI2kq1bsIP2h2",
      "include_colab_link": true
    },
    "kernelspec": {
      "name": "python3",
      "display_name": "Python 3"
    },
    "language_info": {
      "name": "python"
    }
  },
  "cells": [
    {
      "cell_type": "markdown",
      "metadata": {
        "id": "view-in-github",
        "colab_type": "text"
      },
      "source": [
        "<a href=\"https://colab.research.google.com/github/akshitachhabra2717/gdp-dashboard/blob/main/key_stroke_dynamic_authentication.ipynb\" target=\"_parent\"><img src=\"https://colab.research.google.com/assets/colab-badge.svg\" alt=\"Open In Colab\"/></a>"
      ]
    },
    {
      "cell_type": "code",
      "execution_count": 3,
      "metadata": {
        "id": "sisWepMgCz6w",
        "outputId": "2c5ec696-05b3-48d3-d561-8c066d15a92b",
        "colab": {
          "base_uri": "https://localhost:8080/"
        }
      },
      "outputs": [
        {
          "output_type": "stream",
          "name": "stdout",
          "text": [
            "              precision    recall  f1-score   support\n",
            "\n",
            "        s002       0.82      0.81      0.82        80\n",
            "        s003       0.95      0.91      0.93        80\n",
            "        s004       0.95      0.94      0.94        80\n",
            "        s005       0.95      0.97      0.96        80\n",
            "        s007       0.91      0.86      0.88        80\n",
            "        s008       0.91      0.85      0.88        80\n",
            "        s010       0.92      0.91      0.92        80\n",
            "        s011       0.99      0.91      0.95        80\n",
            "        s012       0.95      0.94      0.94        80\n",
            "        s013       0.90      0.91      0.91        80\n",
            "        s015       0.79      0.81      0.80        80\n",
            "        s016       0.95      0.94      0.94        80\n",
            "        s017       0.97      0.94      0.96        80\n",
            "        s018       0.93      0.85      0.89        80\n",
            "        s019       0.96      0.97      0.97        80\n",
            "        s020       0.88      0.88      0.88        80\n",
            "        s021       0.84      0.84      0.84        80\n",
            "        s022       0.97      0.96      0.97        80\n",
            "        s024       0.91      0.97      0.94        80\n",
            "        s025       0.93      0.94      0.93        80\n",
            "        s026       0.85      0.89      0.87        80\n",
            "        s027       0.92      0.97      0.95        80\n",
            "        s028       0.95      0.97      0.96        80\n",
            "        s029       0.91      0.91      0.91        80\n",
            "        s030       0.96      0.95      0.96        80\n",
            "        s031       0.75      0.81      0.78        80\n",
            "        s032       0.81      0.71      0.76        80\n",
            "        s033       0.97      0.97      0.97        80\n",
            "        s034       0.92      0.90      0.91        80\n",
            "        s035       0.91      0.89      0.90        80\n",
            "        s036       0.99      0.97      0.98        80\n",
            "        s037       0.86      0.81      0.83        80\n",
            "        s038       0.88      0.88      0.88        80\n",
            "        s039       0.96      0.95      0.96        80\n",
            "        s040       0.93      0.95      0.94        80\n",
            "        s041       0.94      0.96      0.95        80\n",
            "        s042       0.96      0.93      0.94        80\n",
            "        s043       0.99      0.94      0.96        80\n",
            "        s044       0.91      0.97      0.94        80\n",
            "        s046       0.88      0.88      0.88        80\n",
            "        s047       0.76      0.97      0.85        80\n",
            "        s048       0.92      0.91      0.92        80\n",
            "        s049       0.72      0.97      0.83        80\n",
            "        s050       0.92      0.84      0.88        80\n",
            "        s051       0.87      0.90      0.88        80\n",
            "        s052       1.00      0.97      0.99        80\n",
            "        s053       0.99      0.96      0.97        80\n",
            "        s054       0.86      0.86      0.86        80\n",
            "        s055       0.97      0.96      0.97        80\n",
            "        s056       0.97      0.84      0.90        80\n",
            "        s057       0.93      0.82      0.87        80\n",
            "\n",
            "    accuracy                           0.91      4080\n",
            "   macro avg       0.91      0.91      0.91      4080\n",
            "weighted avg       0.91      0.91      0.91      4080\n",
            "\n"
          ]
        }
      ],
      "source": [
        "# 1. Imports\n",
        "import pandas as pd\n",
        "from sklearn.model_selection import train_test_split\n",
        "from sklearn.preprocessing import StandardScaler\n",
        "from sklearn.svm import SVC\n",
        "from sklearn.metrics import classification_report, accuracy_score\n",
        "\n",
        "# 2. Load Dataset\n",
        "df = pd.read_csv('/content/DSL-StrongPasswordData.csv')  # Adjust the path\n",
        "\n",
        "# 3. Preprocessing\n",
        "X = df.drop('subject', axis=1)  # assuming 'subject' is the label\n",
        "y = df['subject']\n",
        "\n",
        "scaler = StandardScaler()\n",
        "X_scaled = scaler.fit_transform(X)\n",
        "\n",
        "# 4. Split & Train\n",
        "X_train, X_test, y_train, y_test = train_test_split(X_scaled, y, test_size=0.2, stratify=y)\n",
        "\n",
        "model = SVC(kernel='rbf', C=1.0, gamma='scale')\n",
        "model.fit(X_train, y_train)\n",
        "\n",
        "# 5. Evaluation\n",
        "y_pred = model.predict(X_test)\n",
        "print(classification_report(y_test, y_pred))"
      ]
    },
    {
      "cell_type": "code",
      "source": [
        "import pickle\n",
        "\n",
        "# Save your trained model\n",
        "with open(\"keystroke_model.pkl\", \"wb\") as f:\n",
        "    pickle.dump(model, f)\n",
        "\n",
        "# Also save your scaler if used\n",
        "with open(\"scaler.pkl\", \"wb\") as f:\n",
        "    pickle.dump(scaler, f)\n"
      ],
      "metadata": {
        "id": "OjrmgfwUEV2S"
      },
      "execution_count": 4,
      "outputs": []
    },
    {
      "cell_type": "code",
      "source": [
        "from google.colab import files\n",
        "files.download(\"keystroke_model.pkl\")\n",
        "files.download(\"scaler.pkl\")"
      ],
      "metadata": {
        "colab": {
          "base_uri": "https://localhost:8080/",
          "height": 17
        },
        "id": "PsXkr7beEqUt",
        "outputId": "764aea01-e31b-48f3-e08b-377a76cc0e8f"
      },
      "execution_count": 7,
      "outputs": [
        {
          "output_type": "display_data",
          "data": {
            "text/plain": [
              "<IPython.core.display.Javascript object>"
            ],
            "application/javascript": [
              "\n",
              "    async function download(id, filename, size) {\n",
              "      if (!google.colab.kernel.accessAllowed) {\n",
              "        return;\n",
              "      }\n",
              "      const div = document.createElement('div');\n",
              "      const label = document.createElement('label');\n",
              "      label.textContent = `Downloading \"${filename}\": `;\n",
              "      div.appendChild(label);\n",
              "      const progress = document.createElement('progress');\n",
              "      progress.max = size;\n",
              "      div.appendChild(progress);\n",
              "      document.body.appendChild(div);\n",
              "\n",
              "      const buffers = [];\n",
              "      let downloaded = 0;\n",
              "\n",
              "      const channel = await google.colab.kernel.comms.open(id);\n",
              "      // Send a message to notify the kernel that we're ready.\n",
              "      channel.send({})\n",
              "\n",
              "      for await (const message of channel.messages) {\n",
              "        // Send a message to notify the kernel that we're ready.\n",
              "        channel.send({})\n",
              "        if (message.buffers) {\n",
              "          for (const buffer of message.buffers) {\n",
              "            buffers.push(buffer);\n",
              "            downloaded += buffer.byteLength;\n",
              "            progress.value = downloaded;\n",
              "          }\n",
              "        }\n",
              "      }\n",
              "      const blob = new Blob(buffers, {type: 'application/binary'});\n",
              "      const a = document.createElement('a');\n",
              "      a.href = window.URL.createObjectURL(blob);\n",
              "      a.download = filename;\n",
              "      div.appendChild(a);\n",
              "      a.click();\n",
              "      div.remove();\n",
              "    }\n",
              "  "
            ]
          },
          "metadata": {}
        },
        {
          "output_type": "display_data",
          "data": {
            "text/plain": [
              "<IPython.core.display.Javascript object>"
            ],
            "application/javascript": [
              "download(\"download_643d6d97-0a2e-4224-9282-19ea3ee0a7a0\", \"keystroke_model.pkl\", 7089071)"
            ]
          },
          "metadata": {}
        },
        {
          "output_type": "display_data",
          "data": {
            "text/plain": [
              "<IPython.core.display.Javascript object>"
            ],
            "application/javascript": [
              "\n",
              "    async function download(id, filename, size) {\n",
              "      if (!google.colab.kernel.accessAllowed) {\n",
              "        return;\n",
              "      }\n",
              "      const div = document.createElement('div');\n",
              "      const label = document.createElement('label');\n",
              "      label.textContent = `Downloading \"${filename}\": `;\n",
              "      div.appendChild(label);\n",
              "      const progress = document.createElement('progress');\n",
              "      progress.max = size;\n",
              "      div.appendChild(progress);\n",
              "      document.body.appendChild(div);\n",
              "\n",
              "      const buffers = [];\n",
              "      let downloaded = 0;\n",
              "\n",
              "      const channel = await google.colab.kernel.comms.open(id);\n",
              "      // Send a message to notify the kernel that we're ready.\n",
              "      channel.send({})\n",
              "\n",
              "      for await (const message of channel.messages) {\n",
              "        // Send a message to notify the kernel that we're ready.\n",
              "        channel.send({})\n",
              "        if (message.buffers) {\n",
              "          for (const buffer of message.buffers) {\n",
              "            buffers.push(buffer);\n",
              "            downloaded += buffer.byteLength;\n",
              "            progress.value = downloaded;\n",
              "          }\n",
              "        }\n",
              "      }\n",
              "      const blob = new Blob(buffers, {type: 'application/binary'});\n",
              "      const a = document.createElement('a');\n",
              "      a.href = window.URL.createObjectURL(blob);\n",
              "      a.download = filename;\n",
              "      div.appendChild(a);\n",
              "      a.click();\n",
              "      div.remove();\n",
              "    }\n",
              "  "
            ]
          },
          "metadata": {}
        },
        {
          "output_type": "display_data",
          "data": {
            "text/plain": [
              "<IPython.core.display.Javascript object>"
            ],
            "application/javascript": [
              "download(\"download_d9fe36ee-56c5-452f-9d97-a9b363f0e5e3\", \"scaler.pkl\", 1680)"
            ]
          },
          "metadata": {}
        }
      ]
    },
    {
      "cell_type": "code",
      "source": [
        "!git config --global user.email \"you@example.com\"\n",
        "!git config --global user.name \"Your Name\"\n",
        "\n",
        "# Create the repo locally\n",
        "!git init\n",
        "!git remote add origin https://github.com/yourusername/keystroke-auth-api.git\n",
        "\n",
        "!git add .\n",
        "!git commit -m \"Initial commit from Colab\"\n",
        "!git push -u origin master  # Or main\n"
      ],
      "metadata": {
        "colab": {
          "base_uri": "https://localhost:8080/"
        },
        "id": "x1yN-za4Fu6Z",
        "outputId": "e9c01a8c-c762-41db-8f18-d86752bd9788"
      },
      "execution_count": 8,
      "outputs": [
        {
          "output_type": "stream",
          "name": "stdout",
          "text": [
            "\u001b[33mhint: Using 'master' as the name for the initial branch. This default branch name\u001b[m\n",
            "\u001b[33mhint: is subject to change. To configure the initial branch name to use in all\u001b[m\n",
            "\u001b[33mhint: of your new repositories, which will suppress this warning, call:\u001b[m\n",
            "\u001b[33mhint: \u001b[m\n",
            "\u001b[33mhint: \tgit config --global init.defaultBranch <name>\u001b[m\n",
            "\u001b[33mhint: \u001b[m\n",
            "\u001b[33mhint: Names commonly chosen instead of 'master' are 'main', 'trunk' and\u001b[m\n",
            "\u001b[33mhint: 'development'. The just-created branch can be renamed via this command:\u001b[m\n",
            "\u001b[33mhint: \u001b[m\n",
            "\u001b[33mhint: \tgit branch -m <name>\u001b[m\n",
            "Initialized empty Git repository in /content/.git/\n",
            "[master (root-commit) 133dea7] Initial commit from Colab\n",
            " 24 files changed, 71426 insertions(+)\n",
            " create mode 100644 .config/.last_opt_in_prompt.yaml\n",
            " create mode 100644 .config/.last_survey_prompt.yaml\n",
            " create mode 100644 .config/.last_update_check.json\n",
            " create mode 100644 .config/active_config\n",
            " create mode 100644 .config/config_sentinel\n",
            " create mode 100644 .config/configurations/config_default\n",
            " create mode 100644 .config/default_configs.db\n",
            " create mode 100644 .config/gce\n",
            " create mode 100644 .config/hidden_gcloud_config_universe_descriptor_data_cache_configs.db\n",
            " create mode 100644 .config/logs/2025.07.14/13.36.55.513079.log\n",
            " create mode 100644 .config/logs/2025.07.14/13.37.18.281853.log\n",
            " create mode 100644 .config/logs/2025.07.14/13.37.26.425824.log\n",
            " create mode 100644 .config/logs/2025.07.14/13.37.28.421194.log\n",
            " create mode 100644 .config/logs/2025.07.14/13.37.36.297769.log\n",
            " create mode 100644 .config/logs/2025.07.14/13.37.36.955600.log\n",
            " create mode 100644 DSL-StrongPasswordData.csv\n",
            " create mode 100644 keystroke_model.pkl\n",
            " create mode 100755 sample_data/README.md\n",
            " create mode 100755 sample_data/anscombe.json\n",
            " create mode 100644 sample_data/california_housing_test.csv\n",
            " create mode 100644 sample_data/california_housing_train.csv\n",
            " create mode 100644 sample_data/mnist_test.csv\n",
            " create mode 100644 sample_data/mnist_train_small.csv\n",
            " create mode 100644 scaler.pkl\n",
            "fatal: could not read Username for 'https://github.com': No such device or address\n"
          ]
        }
      ]
    }
  ]
}